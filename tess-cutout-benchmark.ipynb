{
 "cells": [
  {
   "cell_type": "markdown",
   "id": "2748aa23-d81a-4d0a-ab6d-d82e42a970f1",
   "metadata": {},
   "source": [
    "# TESS FFI cutout benchmarking\n",
    "\n",
    "This notebook intends to compare the performance of the TESSCut API against consuming the AWS S3 cube cut files directly using the AstroCut package."
   ]
  },
  {
   "cell_type": "code",
   "execution_count": 1,
   "id": "f940622e-5678-4fb6-bfff-c0f66701fbfb",
   "metadata": {},
   "outputs": [],
   "source": [
    "from tess_locator import TessCoord, TessCoordList\n",
    "from random import randint"
   ]
  },
  {
   "cell_type": "code",
   "execution_count": 2,
   "id": "e3542d30-9d49-4594-8a55-46f1d4f08b65",
   "metadata": {},
   "outputs": [],
   "source": [
    "CUTOUT_SIZE = 3"
   ]
  },
  {
   "cell_type": "code",
   "execution_count": 3,
   "id": "95f7ba98-3c9f-4edf-a5ad-8fd17859ec82",
   "metadata": {},
   "outputs": [],
   "source": [
    "def get_random_coordinates(n=10, sector=None, camera=None, ccd=None) -> TessCoordList:\n",
    "    \"\"\"Returns a list of n random TESS pixel positions.\"\"\"\n",
    "    return TessCoordList(\n",
    "            [TessCoord(sector=sector if sector else randint(1, 39),\n",
    "                       camera=camera if camera else randint(1, 4),\n",
    "                       ccd=ccd if ccd else randint(1, 4),\n",
    "                       column=randint(100, 2000),\n",
    "                       row=randint(100, 2000))\n",
    "             for idx in range(n)])"
   ]
  },
  {
   "cell_type": "code",
   "execution_count": 4,
   "id": "16e9fc99-6ea0-43bb-803c-4a7dfb520ef4",
   "metadata": {},
   "outputs": [],
   "source": [
    "from astrocut import CutoutFactory\n",
    "\n",
    "def run_astrocut_s3(crd):\n",
    "    \"\"\"Create a cutout using the S3-powered version of astrocut.\n",
    "    \n",
    "    Parameters\n",
    "    ----------\n",
    "    crd : TessCoord\n",
    "        TESS pixel position to cut out.\n",
    "    \n",
    "    Returns\n",
    "    -------\n",
    "    target_pixel_file : str\n",
    "        Local filename of the extracted Target Pixel File.\n",
    "    \"\"\"\n",
    "    # Where is the cube file located on S3?\n",
    "    cube_file = f\"s3://stpubdata/tess/public/mast/tess-s{crd.sector:04d}-{crd.camera}-{crd.ccd}-cube.fits\"\n",
    "    # Name of the output file\n",
    "    target_pixel_file = f\"{hash(str(crd))}.fits\"\n",
    "    # Create and return the cutout\n",
    "    CutoutFactory().cube_cut(cube_file,\n",
    "                             coordinates=crd.to_skycoord(),\n",
    "                             cutout_size=CUTOUT_SIZE,\n",
    "                             target_pixel_file=target_pixel_file)\n",
    "    return target_pixel_file"
   ]
  },
  {
   "cell_type": "code",
   "execution_count": 5,
   "id": "9fde45c4-ef12-4afb-b9e1-f94b67113f56",
   "metadata": {},
   "outputs": [],
   "source": [
    "def run_tesscut(crd):\n",
    "    return CUTOUT_SIZE"
   ]
  },
  {
   "cell_type": "code",
   "execution_count": 6,
   "id": "67c73613-3cec-45ad-bd3e-77a4c0f9e493",
   "metadata": {},
   "outputs": [],
   "source": [
    "# use `multiprocess` instead of `multiprocessing` because\n",
    "# the former better supports interactive notebooks\n",
    "from multiprocess import Pool\n",
    "\n",
    "def run_benchmark(func, n_cutouts=1, cutout_size=10, sector=None, processes=None):\n",
    "    # Default number of processes to the number of cutouts\n",
    "    if not processes:\n",
    "        processes = n_cutouts\n",
    "        \n",
    "    # Generate random positions to cut out\n",
    "    crdlist = get_random_coordinates(n=n_cutouts, sector=sector)\n",
    "\n",
    "    # Hack: use a global constant to pass cutout size as an argument to `func`\n",
    "    global CUTOUT_SIZE\n",
    "    CUTOUT_SIZE = cutout_size\n",
    "    \n",
    "    # Run the target function\n",
    "    with Pool(processes) as p:\n",
    "        result = p.map(func, crdlist)\n",
    "\n",
    "    return result"
   ]
  },
  {
   "cell_type": "code",
   "execution_count": 7,
   "id": "6ea0b325-7c7c-4a28-a9d1-00aeab554f7f",
   "metadata": {},
   "outputs": [
    {
     "name": "stdout",
     "output_type": "stream",
     "text": [
      "CPU times: user 6.15 ms, sys: 4.21 ms, total: 10.4 ms\n",
      "Wall time: 9.92 ms\n"
     ]
    }
   ],
   "source": [
    "%%time\n",
    "result = run_benchmark(run_tesscut, n_cutouts=1, cutout_size=3, sector=10)"
   ]
  },
  {
   "cell_type": "code",
   "execution_count": 9,
   "id": "7dac66ab-f681-4253-836d-1a3c757280b7",
   "metadata": {},
   "outputs": [
    {
     "ename": "RuntimeError",
     "evalue": "There is no current event loop in thread 'Thread-11'.",
     "output_type": "error",
     "traceback": [
      "\u001b[0;31m---------------------------------------------------------------------------\u001b[0m",
      "\u001b[0;31mRuntimeError\u001b[0m                              Traceback (most recent call last)",
      "\u001b[0;32m<timed exec>\u001b[0m in \u001b[0;36m<module>\u001b[0;34m\u001b[0m\n",
      "\u001b[0;32m/var/folders/x4/y38zs5fj4szf7xj3354kv74m0000gn/T/ipykernel_24387/524150828.py\u001b[0m in \u001b[0;36mrun_benchmark\u001b[0;34m(func, n_cutouts, cutout_size, sector, processes)\u001b[0m\n\u001b[1;32m     18\u001b[0m     \u001b[0;31m# Run the target function\u001b[0m\u001b[0;34m\u001b[0m\u001b[0;34m\u001b[0m\u001b[0;34m\u001b[0m\u001b[0m\n\u001b[1;32m     19\u001b[0m     \u001b[0;32mwith\u001b[0m \u001b[0mThreadPool\u001b[0m\u001b[0;34m(\u001b[0m\u001b[0mprocesses\u001b[0m\u001b[0;34m)\u001b[0m \u001b[0;32mas\u001b[0m \u001b[0mp\u001b[0m\u001b[0;34m:\u001b[0m\u001b[0;34m\u001b[0m\u001b[0;34m\u001b[0m\u001b[0m\n\u001b[0;32m---> 20\u001b[0;31m         \u001b[0mresult\u001b[0m \u001b[0;34m=\u001b[0m \u001b[0mp\u001b[0m\u001b[0;34m.\u001b[0m\u001b[0mmap\u001b[0m\u001b[0;34m(\u001b[0m\u001b[0mfunc\u001b[0m\u001b[0;34m,\u001b[0m \u001b[0mcrdlist\u001b[0m\u001b[0;34m)\u001b[0m\u001b[0;34m\u001b[0m\u001b[0;34m\u001b[0m\u001b[0m\n\u001b[0m\u001b[1;32m     21\u001b[0m \u001b[0;34m\u001b[0m\u001b[0m\n\u001b[1;32m     22\u001b[0m     \u001b[0;32mreturn\u001b[0m \u001b[0mresult\u001b[0m\u001b[0;34m\u001b[0m\u001b[0;34m\u001b[0m\u001b[0m\n",
      "\u001b[0;32m~/.pyenv/versions/3.8.7/envs/astrocut/lib/python3.8/site-packages/multiprocess/pool.py\u001b[0m in \u001b[0;36mmap\u001b[0;34m(self, func, iterable, chunksize)\u001b[0m\n\u001b[1;32m    362\u001b[0m         \u001b[0;32min\u001b[0m \u001b[0ma\u001b[0m \u001b[0mlist\u001b[0m \u001b[0mthat\u001b[0m \u001b[0;32mis\u001b[0m \u001b[0mreturned\u001b[0m\u001b[0;34m.\u001b[0m\u001b[0;34m\u001b[0m\u001b[0;34m\u001b[0m\u001b[0m\n\u001b[1;32m    363\u001b[0m         '''\n\u001b[0;32m--> 364\u001b[0;31m         \u001b[0;32mreturn\u001b[0m \u001b[0mself\u001b[0m\u001b[0;34m.\u001b[0m\u001b[0m_map_async\u001b[0m\u001b[0;34m(\u001b[0m\u001b[0mfunc\u001b[0m\u001b[0;34m,\u001b[0m \u001b[0miterable\u001b[0m\u001b[0;34m,\u001b[0m \u001b[0mmapstar\u001b[0m\u001b[0;34m,\u001b[0m \u001b[0mchunksize\u001b[0m\u001b[0;34m)\u001b[0m\u001b[0;34m.\u001b[0m\u001b[0mget\u001b[0m\u001b[0;34m(\u001b[0m\u001b[0;34m)\u001b[0m\u001b[0;34m\u001b[0m\u001b[0;34m\u001b[0m\u001b[0m\n\u001b[0m\u001b[1;32m    365\u001b[0m \u001b[0;34m\u001b[0m\u001b[0m\n\u001b[1;32m    366\u001b[0m     \u001b[0;32mdef\u001b[0m \u001b[0mstarmap\u001b[0m\u001b[0;34m(\u001b[0m\u001b[0mself\u001b[0m\u001b[0;34m,\u001b[0m \u001b[0mfunc\u001b[0m\u001b[0;34m,\u001b[0m \u001b[0miterable\u001b[0m\u001b[0;34m,\u001b[0m \u001b[0mchunksize\u001b[0m\u001b[0;34m=\u001b[0m\u001b[0;32mNone\u001b[0m\u001b[0;34m)\u001b[0m\u001b[0;34m:\u001b[0m\u001b[0;34m\u001b[0m\u001b[0;34m\u001b[0m\u001b[0m\n",
      "\u001b[0;32m~/.pyenv/versions/3.8.7/envs/astrocut/lib/python3.8/site-packages/multiprocess/pool.py\u001b[0m in \u001b[0;36mget\u001b[0;34m(self, timeout)\u001b[0m\n\u001b[1;32m    769\u001b[0m             \u001b[0;32mreturn\u001b[0m \u001b[0mself\u001b[0m\u001b[0;34m.\u001b[0m\u001b[0m_value\u001b[0m\u001b[0;34m\u001b[0m\u001b[0;34m\u001b[0m\u001b[0m\n\u001b[1;32m    770\u001b[0m         \u001b[0;32melse\u001b[0m\u001b[0;34m:\u001b[0m\u001b[0;34m\u001b[0m\u001b[0;34m\u001b[0m\u001b[0m\n\u001b[0;32m--> 771\u001b[0;31m             \u001b[0;32mraise\u001b[0m \u001b[0mself\u001b[0m\u001b[0;34m.\u001b[0m\u001b[0m_value\u001b[0m\u001b[0;34m\u001b[0m\u001b[0;34m\u001b[0m\u001b[0m\n\u001b[0m\u001b[1;32m    772\u001b[0m \u001b[0;34m\u001b[0m\u001b[0m\n\u001b[1;32m    773\u001b[0m     \u001b[0;32mdef\u001b[0m \u001b[0m_set\u001b[0m\u001b[0;34m(\u001b[0m\u001b[0mself\u001b[0m\u001b[0;34m,\u001b[0m \u001b[0mi\u001b[0m\u001b[0;34m,\u001b[0m \u001b[0mobj\u001b[0m\u001b[0;34m)\u001b[0m\u001b[0;34m:\u001b[0m\u001b[0;34m\u001b[0m\u001b[0;34m\u001b[0m\u001b[0m\n",
      "\u001b[0;32m~/.pyenv/versions/3.8.7/envs/astrocut/lib/python3.8/site-packages/multiprocess/pool.py\u001b[0m in \u001b[0;36mworker\u001b[0;34m(inqueue, outqueue, initializer, initargs, maxtasks, wrap_exception)\u001b[0m\n\u001b[1;32m    123\u001b[0m         \u001b[0mjob\u001b[0m\u001b[0;34m,\u001b[0m \u001b[0mi\u001b[0m\u001b[0;34m,\u001b[0m \u001b[0mfunc\u001b[0m\u001b[0;34m,\u001b[0m \u001b[0margs\u001b[0m\u001b[0;34m,\u001b[0m \u001b[0mkwds\u001b[0m \u001b[0;34m=\u001b[0m \u001b[0mtask\u001b[0m\u001b[0;34m\u001b[0m\u001b[0;34m\u001b[0m\u001b[0m\n\u001b[1;32m    124\u001b[0m         \u001b[0;32mtry\u001b[0m\u001b[0;34m:\u001b[0m\u001b[0;34m\u001b[0m\u001b[0;34m\u001b[0m\u001b[0m\n\u001b[0;32m--> 125\u001b[0;31m             \u001b[0mresult\u001b[0m \u001b[0;34m=\u001b[0m \u001b[0;34m(\u001b[0m\u001b[0;32mTrue\u001b[0m\u001b[0;34m,\u001b[0m \u001b[0mfunc\u001b[0m\u001b[0;34m(\u001b[0m\u001b[0;34m*\u001b[0m\u001b[0margs\u001b[0m\u001b[0;34m,\u001b[0m \u001b[0;34m**\u001b[0m\u001b[0mkwds\u001b[0m\u001b[0;34m)\u001b[0m\u001b[0;34m)\u001b[0m\u001b[0;34m\u001b[0m\u001b[0;34m\u001b[0m\u001b[0m\n\u001b[0m\u001b[1;32m    126\u001b[0m         \u001b[0;32mexcept\u001b[0m \u001b[0mException\u001b[0m \u001b[0;32mas\u001b[0m \u001b[0me\u001b[0m\u001b[0;34m:\u001b[0m\u001b[0;34m\u001b[0m\u001b[0;34m\u001b[0m\u001b[0m\n\u001b[1;32m    127\u001b[0m             \u001b[0;32mif\u001b[0m \u001b[0mwrap_exception\u001b[0m \u001b[0;32mand\u001b[0m \u001b[0mfunc\u001b[0m \u001b[0;32mis\u001b[0m \u001b[0;32mnot\u001b[0m \u001b[0m_helper_reraises_exception\u001b[0m\u001b[0;34m:\u001b[0m\u001b[0;34m\u001b[0m\u001b[0;34m\u001b[0m\u001b[0m\n",
      "\u001b[0;32m~/.pyenv/versions/3.8.7/envs/astrocut/lib/python3.8/site-packages/multiprocess/pool.py\u001b[0m in \u001b[0;36mmapstar\u001b[0;34m(args)\u001b[0m\n\u001b[1;32m     46\u001b[0m \u001b[0;34m\u001b[0m\u001b[0m\n\u001b[1;32m     47\u001b[0m \u001b[0;32mdef\u001b[0m \u001b[0mmapstar\u001b[0m\u001b[0;34m(\u001b[0m\u001b[0margs\u001b[0m\u001b[0;34m)\u001b[0m\u001b[0;34m:\u001b[0m\u001b[0;34m\u001b[0m\u001b[0;34m\u001b[0m\u001b[0m\n\u001b[0;32m---> 48\u001b[0;31m     \u001b[0;32mreturn\u001b[0m \u001b[0mlist\u001b[0m\u001b[0;34m(\u001b[0m\u001b[0mmap\u001b[0m\u001b[0;34m(\u001b[0m\u001b[0;34m*\u001b[0m\u001b[0margs\u001b[0m\u001b[0;34m)\u001b[0m\u001b[0;34m)\u001b[0m\u001b[0;34m\u001b[0m\u001b[0;34m\u001b[0m\u001b[0m\n\u001b[0m\u001b[1;32m     49\u001b[0m \u001b[0;34m\u001b[0m\u001b[0m\n\u001b[1;32m     50\u001b[0m \u001b[0;32mdef\u001b[0m \u001b[0mstarmapstar\u001b[0m\u001b[0;34m(\u001b[0m\u001b[0margs\u001b[0m\u001b[0;34m)\u001b[0m\u001b[0;34m:\u001b[0m\u001b[0;34m\u001b[0m\u001b[0;34m\u001b[0m\u001b[0m\n",
      "\u001b[0;32m/var/folders/x4/y38zs5fj4szf7xj3354kv74m0000gn/T/ipykernel_24387/141774718.py\u001b[0m in \u001b[0;36mrun_astrocut_s3\u001b[0;34m(crd)\u001b[0m\n\u001b[1;32m     19\u001b[0m     \u001b[0mtarget_pixel_file\u001b[0m \u001b[0;34m=\u001b[0m \u001b[0;34mf\"{hash(str(crd))}.fits\"\u001b[0m\u001b[0;34m\u001b[0m\u001b[0;34m\u001b[0m\u001b[0m\n\u001b[1;32m     20\u001b[0m     \u001b[0;31m# Create and return the cutout\u001b[0m\u001b[0;34m\u001b[0m\u001b[0;34m\u001b[0m\u001b[0;34m\u001b[0m\u001b[0m\n\u001b[0;32m---> 21\u001b[0;31m     CutoutFactory().cube_cut(cube_file,\n\u001b[0m\u001b[1;32m     22\u001b[0m                              \u001b[0mcoordinates\u001b[0m\u001b[0;34m=\u001b[0m\u001b[0mcrd\u001b[0m\u001b[0;34m.\u001b[0m\u001b[0mto_skycoord\u001b[0m\u001b[0;34m(\u001b[0m\u001b[0;34m)\u001b[0m\u001b[0;34m,\u001b[0m\u001b[0;34m\u001b[0m\u001b[0;34m\u001b[0m\u001b[0m\n\u001b[1;32m     23\u001b[0m                              \u001b[0mcutout_size\u001b[0m\u001b[0;34m=\u001b[0m\u001b[0mCUTOUT_SIZE\u001b[0m\u001b[0;34m,\u001b[0m\u001b[0;34m\u001b[0m\u001b[0;34m\u001b[0m\u001b[0m\n",
      "\u001b[0;32m~/.pyenv/versions/3.8.7/envs/astrocut/lib/python3.8/site-packages/astrocut/cube_cut.py\u001b[0m in \u001b[0;36mcube_cut\u001b[0;34m(self, cube_file, coordinates, cutout_size, target_pixel_file, output_path, verbose)\u001b[0m\n\u001b[1;32m    734\u001b[0m             \u001b[0mcubeclass\u001b[0m \u001b[0;34m=\u001b[0m \u001b[0mLocalCubeFile\u001b[0m\u001b[0;34m\u001b[0m\u001b[0;34m\u001b[0m\u001b[0m\n\u001b[1;32m    735\u001b[0m \u001b[0;34m\u001b[0m\u001b[0m\n\u001b[0;32m--> 736\u001b[0;31m         \u001b[0;32mwith\u001b[0m \u001b[0mcubeclass\u001b[0m\u001b[0;34m(\u001b[0m\u001b[0mcube_file\u001b[0m\u001b[0;34m)\u001b[0m \u001b[0;32mas\u001b[0m \u001b[0mcube\u001b[0m\u001b[0;34m:\u001b[0m\u001b[0;34m\u001b[0m\u001b[0;34m\u001b[0m\u001b[0m\n\u001b[0m\u001b[1;32m    737\u001b[0m \u001b[0;34m\u001b[0m\u001b[0m\n\u001b[1;32m    738\u001b[0m             \u001b[0;31m# Get the info we need from the data table\u001b[0m\u001b[0;34m\u001b[0m\u001b[0;34m\u001b[0m\u001b[0;34m\u001b[0m\u001b[0m\n",
      "\u001b[0;32m~/.pyenv/versions/3.8.7/envs/astrocut/lib/python3.8/site-packages/astrocut/cube_cut.py\u001b[0m in \u001b[0;36m__init__\u001b[0;34m(self, cube_file)\u001b[0m\n\u001b[1;32m    876\u001b[0m         \u001b[0;31m# asyncio cannot be used in a Jupyter notebook environment\u001b[0m\u001b[0;34m\u001b[0m\u001b[0;34m\u001b[0m\u001b[0;34m\u001b[0m\u001b[0m\n\u001b[1;32m    877\u001b[0m         \u001b[0;31m# without calling `nest_asyncio.apply()` first.\u001b[0m\u001b[0;34m\u001b[0m\u001b[0;34m\u001b[0m\u001b[0;34m\u001b[0m\u001b[0m\n\u001b[0;32m--> 878\u001b[0;31m         \u001b[0mnest_asyncio\u001b[0m\u001b[0;34m.\u001b[0m\u001b[0mapply\u001b[0m\u001b[0;34m(\u001b[0m\u001b[0;34m)\u001b[0m\u001b[0;34m\u001b[0m\u001b[0;34m\u001b[0m\u001b[0m\n\u001b[0m\u001b[1;32m    879\u001b[0m \u001b[0;34m\u001b[0m\u001b[0m\n\u001b[1;32m    880\u001b[0m         \u001b[0mself\u001b[0m\u001b[0;34m.\u001b[0m\u001b[0ms3clientmgr\u001b[0m \u001b[0;34m=\u001b[0m \u001b[0maioboto3\u001b[0m\u001b[0;34m.\u001b[0m\u001b[0mSession\u001b[0m\u001b[0;34m(\u001b[0m\u001b[0;34m)\u001b[0m\u001b[0;34m.\u001b[0m\u001b[0mclient\u001b[0m\u001b[0;34m(\u001b[0m\u001b[0;34m\"s3\"\u001b[0m\u001b[0;34m,\u001b[0m \u001b[0mconfig\u001b[0m\u001b[0;34m=\u001b[0m\u001b[0mConfig\u001b[0m\u001b[0;34m(\u001b[0m\u001b[0msignature_version\u001b[0m\u001b[0;34m=\u001b[0m\u001b[0mUNSIGNED\u001b[0m\u001b[0;34m)\u001b[0m\u001b[0;34m)\u001b[0m\u001b[0;34m\u001b[0m\u001b[0;34m\u001b[0m\u001b[0m\n",
      "\u001b[0;32m~/.pyenv/versions/3.8.7/envs/astrocut/lib/python3.8/site-packages/nest_asyncio.py\u001b[0m in \u001b[0;36mapply\u001b[0;34m(loop)\u001b[0m\n\u001b[1;32m     10\u001b[0m \u001b[0;32mdef\u001b[0m \u001b[0mapply\u001b[0m\u001b[0;34m(\u001b[0m\u001b[0mloop\u001b[0m\u001b[0;34m=\u001b[0m\u001b[0;32mNone\u001b[0m\u001b[0;34m)\u001b[0m\u001b[0;34m:\u001b[0m\u001b[0;34m\u001b[0m\u001b[0;34m\u001b[0m\u001b[0m\n\u001b[1;32m     11\u001b[0m     \u001b[0;34m\"\"\"Patch asyncio to make its event loop reentrant.\"\"\"\u001b[0m\u001b[0;34m\u001b[0m\u001b[0;34m\u001b[0m\u001b[0m\n\u001b[0;32m---> 12\u001b[0;31m     \u001b[0mloop\u001b[0m \u001b[0;34m=\u001b[0m \u001b[0mloop\u001b[0m \u001b[0;32mor\u001b[0m \u001b[0masyncio\u001b[0m\u001b[0;34m.\u001b[0m\u001b[0mget_event_loop\u001b[0m\u001b[0;34m(\u001b[0m\u001b[0;34m)\u001b[0m\u001b[0;34m\u001b[0m\u001b[0;34m\u001b[0m\u001b[0m\n\u001b[0m\u001b[1;32m     13\u001b[0m     \u001b[0;32mif\u001b[0m \u001b[0;32mnot\u001b[0m \u001b[0misinstance\u001b[0m\u001b[0;34m(\u001b[0m\u001b[0mloop\u001b[0m\u001b[0;34m,\u001b[0m \u001b[0masyncio\u001b[0m\u001b[0;34m.\u001b[0m\u001b[0mBaseEventLoop\u001b[0m\u001b[0;34m)\u001b[0m\u001b[0;34m:\u001b[0m\u001b[0;34m\u001b[0m\u001b[0;34m\u001b[0m\u001b[0m\n\u001b[1;32m     14\u001b[0m         \u001b[0;32mraise\u001b[0m \u001b[0mValueError\u001b[0m\u001b[0;34m(\u001b[0m\u001b[0;34m'Can\\'t patch loop of type %s'\u001b[0m \u001b[0;34m%\u001b[0m \u001b[0mtype\u001b[0m\u001b[0;34m(\u001b[0m\u001b[0mloop\u001b[0m\u001b[0;34m)\u001b[0m\u001b[0;34m)\u001b[0m\u001b[0;34m\u001b[0m\u001b[0;34m\u001b[0m\u001b[0m\n",
      "\u001b[0;32m~/.pyenv/versions/3.8.7/lib/python3.8/asyncio/events.py\u001b[0m in \u001b[0;36mget_event_loop\u001b[0;34m(self)\u001b[0m\n\u001b[1;32m    637\u001b[0m \u001b[0;34m\u001b[0m\u001b[0m\n\u001b[1;32m    638\u001b[0m         \u001b[0;32mif\u001b[0m \u001b[0mself\u001b[0m\u001b[0;34m.\u001b[0m\u001b[0m_local\u001b[0m\u001b[0;34m.\u001b[0m\u001b[0m_loop\u001b[0m \u001b[0;32mis\u001b[0m \u001b[0;32mNone\u001b[0m\u001b[0;34m:\u001b[0m\u001b[0;34m\u001b[0m\u001b[0;34m\u001b[0m\u001b[0m\n\u001b[0;32m--> 639\u001b[0;31m             raise RuntimeError('There is no current event loop in thread %r.'\n\u001b[0m\u001b[1;32m    640\u001b[0m                                % threading.current_thread().name)\n\u001b[1;32m    641\u001b[0m \u001b[0;34m\u001b[0m\u001b[0m\n",
      "\u001b[0;31mRuntimeError\u001b[0m: There is no current event loop in thread 'Thread-11'."
     ]
    }
   ],
   "source": [
    "%%time\n",
    "result = run_benchmark(run_astrocut_s3, n_cutouts=1, cutout_size=3, sector=10)"
   ]
  },
  {
   "cell_type": "code",
   "execution_count": null,
   "id": "da81f44e-36f9-43bf-b5ae-2a3f85ed9bcb",
   "metadata": {},
   "outputs": [],
   "source": []
  }
 ],
 "metadata": {
  "kernelspec": {
   "display_name": "Python 3 (ipykernel)",
   "language": "python",
   "name": "python3"
  },
  "language_info": {
   "codemirror_mode": {
    "name": "ipython",
    "version": 3
   },
   "file_extension": ".py",
   "mimetype": "text/x-python",
   "name": "python",
   "nbconvert_exporter": "python",
   "pygments_lexer": "ipython3",
   "version": "3.8.7"
  }
 },
 "nbformat": 4,
 "nbformat_minor": 5
}

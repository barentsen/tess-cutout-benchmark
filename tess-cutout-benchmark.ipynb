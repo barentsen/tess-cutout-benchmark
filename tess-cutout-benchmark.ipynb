{
 "cells": [
  {
   "cell_type": "markdown",
   "id": "2748aa23-d81a-4d0a-ab6d-d82e42a970f1",
   "metadata": {},
   "source": [
    "# How fast can TESS FFI cutouts be accessed on TIKE?\n",
    "\n",
    "*Prepared by Geert Barentsen on Aug 23, 2021.*\n",
    "\n",
    "## Purpose of this notebook\n",
    "\n",
    "This notebook investigates the performance of obtaining TESS FFI cutouts in two different ways:\n",
    "\n",
    "1. from MAST using the [TESSCut API](https://mast.stsci.edu/tesscut/) accessed via the `astroquery` package;\n",
    "2. from AWS S3 using the experimental [s3-support](https://github.com/spacetelescope/astrocut/pull/44) branch of the `astrocut` package."
   ]
  },
  {
   "cell_type": "markdown",
   "id": "489993c9-65f7-4a20-a59d-9833a3dbfbb0",
   "metadata": {},
   "source": [
    "## Step 1: Install extra dependencies\n",
    "\n",
    "The following dependencies are not available on TIKE by default:"
   ]
  },
  {
   "cell_type": "code",
   "execution_count": null,
   "id": "0a29db31-4937-4c66-ae6c-44087cf8bbfe",
   "metadata": {},
   "outputs": [],
   "source": [
    "!pip install -q --upgrade tess-locator multiprocess"
   ]
  },
  {
   "cell_type": "markdown",
   "id": "bd284ca2-c3de-4a5b-8162-0faf1a56ed6b",
   "metadata": {},
   "source": [
    "We also need to install the experimental `s3-support` branch of the `astrocut` package for this notebook to be able to access the S3-hosted cube files:"
   ]
  },
  {
   "cell_type": "code",
   "execution_count": null,
   "id": "0131df03-fe11-402b-8197-f46bd04c98ca",
   "metadata": {},
   "outputs": [],
   "source": [
    "!pip install -q git+https://github.com/barentsen/astrocut.git@s3-support"
   ]
  },
  {
   "cell_type": "code",
   "execution_count": null,
   "id": "e3681858-e090-4e77-94ad-dba58814b6fe",
   "metadata": {},
   "outputs": [],
   "source": [
    "import astroquery\n",
    "astroquery.__version__"
   ]
  },
  {
   "cell_type": "code",
   "execution_count": null,
   "id": "e25d916b-c90c-40f7-a2c4-9998facedd37",
   "metadata": {},
   "outputs": [],
   "source": [
    "import astrocut\n",
    "astrocut.__version__"
   ]
  },
  {
   "cell_type": "markdown",
   "id": "300441ae-5e06-4414-a46e-0538e82dd5d6",
   "metadata": {},
   "source": [
    "## Step 2: Obtaining random cutout positions"
   ]
  },
  {
   "cell_type": "markdown",
   "id": "3db61b88-60c9-4cd7-a0c9-1699fd1a1b81",
   "metadata": {},
   "source": [
    "We define the `get_random_coordinates` function which will return a random set of TESS pixel positions:"
   ]
  },
  {
   "cell_type": "code",
   "execution_count": null,
   "id": "95f7ba98-3c9f-4edf-a5ad-8fd17859ec82",
   "metadata": {},
   "outputs": [],
   "source": [
    "from tess_locator import TessCoord, TessCoordList\n",
    "from random import randint\n",
    "\n",
    "def get_random_coordinates(n=10, sector=None, camera=None, ccd=None) -> TessCoordList:\n",
    "    \"\"\"Returns a list of random TESS pixel positions.\"\"\"\n",
    "    return TessCoordList(\n",
    "            [TessCoord(sector=sector if sector else randint(30, 39),\n",
    "                       camera=camera if camera else randint(1, 4),\n",
    "                       ccd=ccd if ccd else randint(1, 4),\n",
    "                       column=randint(100, 2000),\n",
    "                       row=randint(100, 2000))\n",
    "             for idx in range(n)])"
   ]
  },
  {
   "cell_type": "markdown",
   "id": "b234f450-01cf-4c89-ae91-161bb92d9d23",
   "metadata": {},
   "source": [
    "Example use:"
   ]
  },
  {
   "cell_type": "code",
   "execution_count": null,
   "id": "3b69fb45-6687-4ac5-bc41-3082065225d3",
   "metadata": {},
   "outputs": [],
   "source": [
    "get_random_coordinates(n=3)"
   ]
  },
  {
   "cell_type": "markdown",
   "id": "c6f00130-7cb9-4282-a76c-0c95c1007cf1",
   "metadata": {},
   "source": [
    "## Step 3: Define helper functions\n",
    "\n",
    "Below we define the `run_astrocut_s3`, `run_tesscut`, and `run_benchmark` helper functions which will be used to execute the benchmarks in the next step."
   ]
  },
  {
   "cell_type": "code",
   "execution_count": null,
   "id": "16e9fc99-6ea0-43bb-803c-4a7dfb520ef4",
   "metadata": {},
   "outputs": [],
   "source": [
    "# This cell implements the helper function to obtain a single cutout using Astrocut.\n",
    "\n",
    "from astrocut import CutoutFactory\n",
    "\n",
    "CUTOUT_SIZE = 3\n",
    "\n",
    "def run_astrocut_s3(crd):\n",
    "    \"\"\"Obtain a single cutout using the S3-powered version of astrocut.\n",
    "    \n",
    "    Parameters\n",
    "    ----------\n",
    "    crd : TessCoord\n",
    "        TESS pixel position to cut out.\n",
    "    \n",
    "    Returns\n",
    "    -------\n",
    "    target_pixel_file : str\n",
    "        Local filename of the extracted Target Pixel File.\n",
    "    \"\"\"\n",
    "    print(f\"Starting {crd}\")\n",
    "    # Where is the cube file located on S3?\n",
    "    cube_file = f\"s3://stpubdata/tess/public/mast/tess-s{crd.sector:04d}-{crd.camera}-{crd.ccd}-cube.fits\"\n",
    "    # Name of the output file\n",
    "    target_pixel_file = f\"astrocut{hash(str(crd))}.fits\"\n",
    "    # Create and return the cutout\n",
    "    try:\n",
    "        CutoutFactory().cube_cut(cube_file,\n",
    "                                 coordinates=crd.to_skycoord(),\n",
    "                                 cutout_size=CUTOUT_SIZE,\n",
    "                                 target_pixel_file=target_pixel_file)\n",
    "        return target_pixel_file\n",
    "    except Exception as e:\n",
    "        print(f\"Exception encountered for {crd}:\\n\\n{e}\")\n",
    "        return \"error\""
   ]
  },
  {
   "cell_type": "code",
   "execution_count": null,
   "id": "9fde45c4-ef12-4afb-b9e1-f94b67113f56",
   "metadata": {},
   "outputs": [],
   "source": [
    "# This cell implements the helper function to obtain a single cutout using TESSCut.\n",
    "\n",
    "from astroquery.mast import Tesscut\n",
    "\n",
    "def run_tesscut(crd):\n",
    "    \"\"\"Obtain a single cutout using the TESSCut API hosted at MAST.\n",
    "    \n",
    "    Parameters\n",
    "    ----------\n",
    "    crd : TessCoord\n",
    "        TESS pixel position to cut out.\n",
    "\n",
    "    Returns\n",
    "    -------\n",
    "    path : str\n",
    "        Local filename of the extracted Target Pixel File.\n",
    "    \"\"\"\n",
    "    print(f\"Starting {crd}\")\n",
    "    try:\n",
    "        result = Tesscut.download_cutouts(crd.to_skycoord(),\n",
    "                                          size=CUTOUT_SIZE,\n",
    "                                          sector=crd.sector,\n",
    "                                          path=\".\",\n",
    "                                          inflate=False)\n",
    "        return result[\"Local Path\"][0]\n",
    "    except Exception as e:\n",
    "        print(f\"Exception encountered for {crd}:\\n\\n{e}\")\n",
    "        return \"error\""
   ]
  },
  {
   "cell_type": "code",
   "execution_count": null,
   "id": "67c73613-3cec-45ad-bd3e-77a4c0f9e493",
   "metadata": {},
   "outputs": [],
   "source": [
    "# This cell implements the `run_benchmark` helper function.\n",
    "\n",
    "# We are required to use `multiprocess` instead of `multiprocessing`\n",
    "# because the latter does not support interactive notebooks\n",
    "from multiprocess import Pool\n",
    "\n",
    "def run_benchmark(func, n_cutouts=1, cutout_size=10, sector=None, processes=1):\n",
    "    \"\"\"Uses the `func` helper function to obtain `n_cutouts` random cutouts.\n",
    "\n",
    "    Parameters\n",
    "    ----------\n",
    "    func : `run_tesscut` or `run_astrocut_s3`\n",
    "        Helper function that will be used to obtain each cutout.\n",
    "    n_cutouts : int\n",
    "        Total number of random cutouts to obtain.\n",
    "    sector : int or None\n",
    "        Restrict cutouts to a specific sector?  Pass None to use random sectors.\n",
    "    processes : int\n",
    "        Number of parallel processes to use.\n",
    "\n",
    "    Returns\n",
    "    -------\n",
    "    cutouts : list of str\n",
    "        List containing the local paths of the Target Pixel Files obtained.\n",
    "    \"\"\"        \n",
    "    # Generate random positions to cut out\n",
    "    crdlist = get_random_coordinates(n=n_cutouts, sector=sector)\n",
    "\n",
    "    # Hack: use a global constant to pass cutout size as an argument to `func`\n",
    "    global CUTOUT_SIZE\n",
    "    CUTOUT_SIZE = cutout_size\n",
    "    \n",
    "    # Run the target function\n",
    "    with Pool(processes) as p:\n",
    "        result = p.map(func, crdlist)\n",
    "\n",
    "    return result"
   ]
  },
  {
   "cell_type": "markdown",
   "id": "ad9501c0-4e25-4c14-9060-ede54c50ea69",
   "metadata": {},
   "source": [
    "## Step 4: Run the benchmarks\n",
    "\n",
    "We can now execute the benchmarks for a specific number of cutouts (`n_cutouts`), a cutout size (`cutout_size`), and a number of parallel processes (`processes`).\n",
    "\n",
    "For example:"
   ]
  },
  {
   "cell_type": "code",
   "execution_count": null,
   "id": "6ea0b325-7c7c-4a28-a9d1-00aeab554f7f",
   "metadata": {},
   "outputs": [],
   "source": [
    "%%time\n",
    "# Request three 10-by-10px cutouts from TESSCut in a single process as follows:\n",
    "result = run_benchmark(run_tesscut, n_cutouts=3, cutout_size=10, processes=1)\n",
    "result"
   ]
  },
  {
   "cell_type": "code",
   "execution_count": null,
   "id": "7dac66ab-f681-4253-836d-1a3c757280b7",
   "metadata": {},
   "outputs": [],
   "source": [
    "%%time\n",
    "# Request three 10-by-10px cutouts from Astrocut in a single process as follows:\n",
    "result = run_benchmark(run_astrocut_s3, n_cutouts=3, cutout_size=10, processes=1)\n",
    "result"
   ]
  }
 ],
 "metadata": {
  "kernelspec": {
   "display_name": "Python 3 (ipykernel)",
   "language": "python",
   "name": "python3"
  },
  "language_info": {
   "codemirror_mode": {
    "name": "ipython",
    "version": 3
   },
   "file_extension": ".py",
   "mimetype": "text/x-python",
   "name": "python",
   "nbconvert_exporter": "python",
   "pygments_lexer": "ipython3",
   "version": "3.9.6"
  }
 },
 "nbformat": 4,
 "nbformat_minor": 5
}
